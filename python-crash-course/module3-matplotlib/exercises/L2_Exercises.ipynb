{
 "cells": [
  {
   "cell_type": "markdown",
   "metadata": {},
   "source": [
    "### L2 - Exercises\n",
    "---"
   ]
  },
  {
   "cell_type": "markdown",
   "metadata": {},
   "source": [
    "1\\. Plot the functions:\n",
    "- $f_1(x)=\\frac{1}{1+e^{-0.4x}}$, in blue;\n",
    "- $f_2(x)=\\frac{1}{1+e^{-0.7x}}$, in red;\n",
    "- $f_3(x)=\\frac{1}{1+e^{-x}}$, in green;\n",
    "- $f_4(x)=\\frac{1}{1+e^{-2x}}$, in black.\n",
    "\n",
    "from -6 to 6, in a figure 7x4 inches big. "
   ]
  },
  {
   "cell_type": "code",
   "execution_count": null,
   "metadata": {},
   "outputs": [],
   "source": []
  },
  {
   "cell_type": "markdown",
   "metadata": {},
   "source": [
    "2\\. Make the y-axis limits range from 0 to 1, and the x-axis limits to be as tight as possible."
   ]
  },
  {
   "cell_type": "code",
   "execution_count": null,
   "metadata": {},
   "outputs": [],
   "source": []
  },
  {
   "cell_type": "markdown",
   "metadata": {},
   "source": [
    "3\\. Do the following:\n",
    "\n",
    "- Add a legend that indicates which line is which;\n",
    "- Add the x-label \"Input\";\n",
    "- Add the y-label \"Output\";\n",
    "- Add a dashed grid;\n",
    "- Add the title \"Activations\"."
   ]
  },
  {
   "cell_type": "code",
   "execution_count": null,
   "metadata": {},
   "outputs": [],
   "source": []
  },
  {
   "cell_type": "markdown",
   "metadata": {},
   "source": [
    "4\\. Change the y ticks to be only 0, 0.5 and 1. Change the x ticks to be -6, -3, 0, 3, and 6."
   ]
  },
  {
   "cell_type": "code",
   "execution_count": null,
   "metadata": {},
   "outputs": [],
   "source": []
  },
  {
   "cell_type": "markdown",
   "metadata": {},
   "source": [
    "5\\. Create a new figure, this time with a 2x2 axes layout. Create the same plot as you did so far, but each line should now be separated into one axis."
   ]
  },
  {
   "cell_type": "code",
   "execution_count": null,
   "metadata": {},
   "outputs": [],
   "source": []
  },
  {
   "cell_type": "markdown",
   "metadata": {},
   "source": [
    "6\\. Save your figure as an .eps file."
   ]
  },
  {
   "cell_type": "code",
   "execution_count": null,
   "metadata": {},
   "outputs": [],
   "source": []
  }
 ],
 "metadata": {
  "kernelspec": {
   "display_name": "Python 3",
   "language": "python",
   "name": "python3"
  },
  "language_info": {
   "codemirror_mode": {
    "name": "ipython",
    "version": 3
   },
   "file_extension": ".py",
   "mimetype": "text/x-python",
   "name": "python",
   "nbconvert_exporter": "python",
   "pygments_lexer": "ipython3",
   "version": "3.6.6"
  }
 },
 "nbformat": 4,
 "nbformat_minor": 2
}
