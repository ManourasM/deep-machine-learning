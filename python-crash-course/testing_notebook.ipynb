{
 "cells": [
  {
   "cell_type": "markdown",
   "metadata": {},
   "source": [
    "This notebook tests that the correct Python version is installed, and all modules can be correctly imported. To do so, please click on the cell below and run through the cells by keep pressing shift-enter. Running the cells may take some time. "
   ]
  },
  {
   "cell_type": "code",
   "execution_count": null,
   "metadata": {},
   "outputs": [],
   "source": [
    "from platform import python_version_tuple\n",
    "\n",
    "assert (\n",
    "    python_version_tuple()[:2] == (\"3\", \"9\")\n",
    "), \"You are not running Python 3.9. Make sure to run Python through the course environment.\""
   ]
  },
  {
   "cell_type": "code",
   "execution_count": null,
   "metadata": {
    "scrolled": true
   },
   "outputs": [],
   "source": [
    "# This will produce a warning regarding a mismatch between\n",
    "# Scipy and Numpy but it does not affect the functionality we require.\n",
    "from importlib.util import find_spec\n",
    "\n",
    "packages_to_find = [\"numpy\", \"matplotlib\", \"pandas\", \"seaborn\", \"h5py\", \"torch\"]\n",
    "all_found = True\n",
    "for pkg in packages_to_find:\n",
    "    if find_spec(pkg) is None:\n",
    "        all_found = False\n",
    "        raise ImportError(\n",
    "            f\"There was an error importing these {pkg}. Please make sure you followed all instructions correctly.\"\n",
    "        )\n",
    "\n",
    "if all_found:\n",
    "    print(\"All modules have been imported successfully.\")"
   ]
  }
 ],
 "metadata": {
  "kernelspec": {
   "display_name": "Python 3",
   "language": "python",
   "name": "python3"
  },
  "language_info": {
   "codemirror_mode": {
    "name": "ipython",
    "version": 3
   },
   "file_extension": ".py",
   "mimetype": "text/x-python",
   "name": "python",
   "nbconvert_exporter": "python",
   "pygments_lexer": "ipython3",
   "version": "3.9.19"
  }
 },
 "nbformat": 4,
 "nbformat_minor": 2
}
