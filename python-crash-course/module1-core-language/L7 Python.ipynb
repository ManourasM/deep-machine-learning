{
 "cells": [
  {
   "cell_type": "markdown",
   "metadata": {},
   "source": [
    "# L7 - Classes\n",
    "---"
   ]
  },
  {
   "cell_type": "markdown",
   "metadata": {},
   "source": [
    "In this lecture we'll discuss how to create custom types in Python, called classes. We'll see how to create a new class, specify its behavior, and how to instantiate an object of that class."
   ]
  },
  {
   "cell_type": "markdown",
   "metadata": {},
   "source": [
    "---\n",
    "### 7.1 Basic syntax"
   ]
  },
  {
   "cell_type": "markdown",
   "metadata": {},
   "source": [
    "To create a new class, the basic syntax is:\n",
    "\n",
    "    class ClassName:\n",
    "    \n",
    "        def __init__(self, arg1, arg2, ...):\n",
    "            statement(s)\n",
    "            \n",
    "        def method1(self, arg1, arg2, ...):\n",
    "            statement(s)\n",
    "            \n",
    "        def method2(self, arg1, arg2, ...):\n",
    "            statement(s)\n",
    "        .\n",
    "        .\n",
    "        ."
   ]
  },
  {
   "cell_type": "markdown",
   "metadata": {},
   "source": [
    "Some notes:\n",
    "\n",
    "- Functions inside a class are called \"methods\" of the class.\n",
    "- The part `def __init__(self, ...)` is creating the constructor of the class."
   ]
  },
  {
   "cell_type": "code",
   "execution_count": null,
   "metadata": {},
   "outputs": [],
   "source": [
    "class Dog:\n",
    "    def __init__(self, a, n):\n",
    "        self.age = a\n",
    "        self.name = n\n",
    "\n",
    "    def bark(self):\n",
    "        print(\"Woof woof!\")\n",
    "\n",
    "    def sleep(self):\n",
    "        print(\"Zzzzzz....\")"
   ]
  },
  {
   "cell_type": "markdown",
   "metadata": {},
   "source": [
    "This simply creates the class definition, but it doesn't create any objects from the class. To do so, you use\n",
    "\n",
    "    my_object = ClassName()\n",
    "    \n",
    "in your code. This is when we actually create a new object from the class, also called an \"instance\" of the class.\n",
    "\n",
    "---"
   ]
  },
  {
   "cell_type": "markdown",
   "metadata": {},
   "source": [
    "### 7.2 The `self` argument"
   ]
  },
  {
   "cell_type": "markdown",
   "metadata": {},
   "source": [
    "All of the methods in a class (unless they're [static](https://docs.python.org/2/library/functions.html#staticmethod)) need to have at least one argument, and this argument is by convention named `self`.\n",
    "\n",
    "It's through this argument that your methods will be able to alter the data inside an instance of the class (for example when specifying the class's attributes in the constructor)."
   ]
  },
  {
   "cell_type": "markdown",
   "metadata": {},
   "source": [
    "---"
   ]
  },
  {
   "cell_type": "markdown",
   "metadata": {},
   "source": [
    "### 7.3 Object creation and usage"
   ]
  },
  {
   "cell_type": "markdown",
   "metadata": {},
   "source": [
    "Now we create a new object from this class (an *instance* from this class) like so:"
   ]
  },
  {
   "cell_type": "code",
   "execution_count": null,
   "metadata": {},
   "outputs": [],
   "source": [
    "mydog = Dog(3, \"Bob\")"
   ]
  },
  {
   "cell_type": "markdown",
   "metadata": {},
   "source": [
    "We can check that it is indeed an instance of the `Dog` class."
   ]
  },
  {
   "cell_type": "code",
   "execution_count": null,
   "metadata": {},
   "outputs": [],
   "source": [
    "type(mydog)"
   ]
  },
  {
   "cell_type": "markdown",
   "metadata": {},
   "source": [
    "We access its attributes using the name of the instance, followed by a '`.`', and then the name of the attribute."
   ]
  },
  {
   "cell_type": "code",
   "execution_count": null,
   "metadata": {},
   "outputs": [],
   "source": [
    "mydog.age"
   ]
  },
  {
   "cell_type": "code",
   "execution_count": null,
   "metadata": {},
   "outputs": [],
   "source": [
    "mydog.name"
   ]
  },
  {
   "cell_type": "markdown",
   "metadata": {},
   "source": [
    "And you can alter them in an assignment."
   ]
  },
  {
   "cell_type": "code",
   "execution_count": null,
   "metadata": {},
   "outputs": [],
   "source": [
    "mydog.age = 30\n",
    "mydog.age"
   ]
  },
  {
   "cell_type": "markdown",
   "metadata": {},
   "source": [
    "We call its methods just like we would with functions, but using the name of the instance followed by a '`.`', and then the method's name."
   ]
  },
  {
   "cell_type": "code",
   "execution_count": null,
   "metadata": {},
   "outputs": [],
   "source": [
    "mydog.bark()"
   ]
  },
  {
   "cell_type": "code",
   "execution_count": null,
   "metadata": {},
   "outputs": [],
   "source": [
    "mydog.sleep()"
   ]
  },
  {
   "cell_type": "markdown",
   "metadata": {},
   "source": [
    "---"
   ]
  },
  {
   "cell_type": "markdown",
   "metadata": {},
   "source": [
    "### 7.3 Using the `self` argument"
   ]
  },
  {
   "cell_type": "markdown",
   "metadata": {},
   "source": [
    "As we just said, a method can access its instance's attributes using the argument `self`. So if we wanted the `bark` method to also output the dog's name, this is how we would do it."
   ]
  },
  {
   "cell_type": "code",
   "execution_count": null,
   "metadata": {},
   "outputs": [],
   "source": [
    "class Dog:\n",
    "    def __init__(self, a, n):\n",
    "        self.age = a\n",
    "        self.name = n\n",
    "\n",
    "    def bark(self):\n",
    "        print(self.name, \"said: Woof woof!\")\n",
    "\n",
    "    def sleep(self):\n",
    "        print(\"Zzzzzz....\")\n",
    "\n",
    "\n",
    "mydog = Dog(3, \"Santa Paws\")\n",
    "mydog.bark()"
   ]
  },
  {
   "cell_type": "markdown",
   "metadata": {},
   "source": [
    "---"
   ]
  }
 ],
 "metadata": {
  "kernelspec": {
   "display_name": "Python 3",
   "language": "python",
   "name": "python3"
  },
  "language_info": {
   "codemirror_mode": {
    "name": "ipython",
    "version": 3
   },
   "file_extension": ".py",
   "mimetype": "text/x-python",
   "name": "python",
   "nbconvert_exporter": "python",
   "pygments_lexer": "ipython3",
   "version": "3.6.6"
  }
 },
 "nbformat": 4,
 "nbformat_minor": 2
}
