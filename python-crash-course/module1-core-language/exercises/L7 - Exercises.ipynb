{
 "cells": [
  {
   "cell_type": "markdown",
   "metadata": {},
   "source": [
    "### Lecture 7 - Exercises\n",
    "---"
   ]
  },
  {
   "cell_type": "markdown",
   "metadata": {},
   "source": [
    "1\\. Create a class called `Human`. It should have the attributes `age`, `name`, `sex`, and `address`. It should have a constructor, which initializes all of its attributes with user-supplied values, and a method called `greet`, which prints a greeting message to the console informing the user of all the object's attributes."
   ]
  },
  {
   "cell_type": "code",
   "execution_count": 1,
   "metadata": {},
   "outputs": [],
   "source": [
    "# Create your class here\n"
   ]
  },
  {
   "cell_type": "code",
   "execution_count": null,
   "metadata": {},
   "outputs": [],
   "source": [
    "myHuman = Human(13, \"Jonas\", \"man\", \"Indigo Street 41B\")\n",
    "myHuman.greet()"
   ]
  },
  {
   "cell_type": "code",
   "execution_count": 16,
   "metadata": {},
   "outputs": [
    {
     "name": "stdout",
     "output_type": "stream",
     "text": [
      "Hi! My name is Jonas. I am a 13 years old man and live in Indigo Street 41B.\n"
     ]
    }
   ],
   "source": [
    "# expected output when running the above cell"
   ]
  },
  {
   "cell_type": "markdown",
   "metadata": {},
   "source": [
    "2\\. Create a class called `Family`. It should have the attributes `Father` and `Mother` (which will be `Human`s), and a method called `family_greet`, which prints a message to the console with all of the details of the family."
   ]
  },
  {
   "cell_type": "code",
   "execution_count": 52,
   "metadata": {},
   "outputs": [],
   "source": [
    "# Create your class here\n"
   ]
  },
  {
   "cell_type": "code",
   "execution_count": null,
   "metadata": {},
   "outputs": [],
   "source": [
    "father = Human(30, \"Bill\", \"man\", \"Indigo street 23C\")\n",
    "mother = Human(30, \"Claire\", \"woman\", \"Indigo street 23C\")\n",
    "son = Human(7, \"Jonas\", \"man\", \"Indigo street 23C\")\n",
    "\n",
    "family = Family(father, mother)\n",
    "family.family_greet()"
   ]
  },
  {
   "cell_type": "code",
   "execution_count": 53,
   "metadata": {},
   "outputs": [
    {
     "name": "stdout",
     "output_type": "stream",
     "text": [
      "Hi! My name is Bill. I am a 30 years old man and live in Indigo street 23C.\n",
      "Hi! My name is Claire. I am a 30 years old woman and live in Indigo street 23C.\n"
     ]
    }
   ],
   "source": [
    "# expected output when running the above cell"
   ]
  },
  {
   "cell_type": "markdown",
   "metadata": {},
   "source": [
    "---"
   ]
  }
 ],
 "metadata": {
  "kernelspec": {
   "display_name": "Python 3",
   "language": "python",
   "name": "python3"
  },
  "language_info": {
   "codemirror_mode": {
    "name": "ipython",
    "version": 3
   },
   "file_extension": ".py",
   "mimetype": "text/x-python",
   "name": "python",
   "nbconvert_exporter": "python",
   "pygments_lexer": "ipython3",
   "version": "3.6.5"
  }
 },
 "nbformat": 4,
 "nbformat_minor": 2
}
