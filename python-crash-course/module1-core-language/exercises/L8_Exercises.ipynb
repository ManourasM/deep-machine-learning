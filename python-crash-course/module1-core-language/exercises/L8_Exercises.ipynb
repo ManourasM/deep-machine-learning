{
 "cells": [
  {
   "cell_type": "markdown",
   "metadata": {},
   "source": [
    "### Lecture 8 - Exercises\n",
    "---"
   ]
  },
  {
   "cell_type": "markdown",
   "metadata": {},
   "source": [
    "1\\. Create a class called `Animal`. \n",
    "\n",
    "Attributes:\n",
    "- `name`;\n",
    "- `age`.\n",
    "\n",
    "Methods:\n",
    "- The constructor, which initializes all of the attributes of the instance with user-supplied values;\n",
    "- `talk`: does nothing;\n",
    "- `sleep`: prints `Zzzzz...`."
   ]
  },
  {
   "cell_type": "code",
   "execution_count": null,
   "metadata": {},
   "outputs": [],
   "source": []
  },
  {
   "cell_type": "markdown",
   "metadata": {},
   "source": [
    "2\\. Create a class called `Human`, which inherits from the `Animal` class. \n",
    "\n",
    "Attributes:\n",
    "- `name`\n",
    "- `age`\n",
    "- `address`\n",
    "\n",
    "Methods\n",
    "- Overwrite the `talk` method to make the instance greet the user with all of their attribute values."
   ]
  },
  {
   "cell_type": "code",
   "execution_count": null,
   "metadata": {},
   "outputs": [],
   "source": []
  },
  {
   "cell_type": "markdown",
   "metadata": {},
   "source": [
    "3\\. Create a class called `Engineer`, which inherits from `Human`.\n",
    "\n",
    "Attributes:\n",
    "- All `Human` attributes;\n",
    "- `salary`\n",
    "\n",
    "Methods:\n",
    "- The `talk()` method should first call the `Human` talk, then print a new line saying `I'm also an engineer, btw.`"
   ]
  },
  {
   "cell_type": "code",
   "execution_count": null,
   "metadata": {},
   "outputs": [],
   "source": []
  },
  {
   "cell_type": "markdown",
   "metadata": {},
   "source": [
    "4\\. Create an engineer and call its `talk()` method."
   ]
  },
  {
   "cell_type": "code",
   "execution_count": null,
   "metadata": {},
   "outputs": [],
   "source": []
  },
  {
   "cell_type": "markdown",
   "metadata": {},
   "source": [
    "---"
   ]
  }
 ],
 "metadata": {
  "kernelspec": {
   "display_name": "Python 3",
   "language": "python",
   "name": "python3"
  },
  "language_info": {
   "codemirror_mode": {
    "name": "ipython",
    "version": 3
   },
   "file_extension": ".py",
   "mimetype": "text/x-python",
   "name": "python",
   "nbconvert_exporter": "python",
   "pygments_lexer": "ipython3",
   "version": "3.6.6"
  }
 },
 "nbformat": 4,
 "nbformat_minor": 2
}
