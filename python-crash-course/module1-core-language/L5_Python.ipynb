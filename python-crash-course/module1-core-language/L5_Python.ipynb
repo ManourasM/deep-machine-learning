{
 "cells": [
  {
   "cell_type": "markdown",
   "metadata": {},
   "source": [
    "# L5 - Conditions and repetitions\n",
    "---"
   ]
  },
  {
   "cell_type": "markdown",
   "metadata": {},
   "source": [
    "### 5.1 Conditional statements"
   ]
  },
  {
   "cell_type": "markdown",
   "metadata": {},
   "source": [
    "`if` clauses in Python have the following syntax:\n",
    "\n",
    "    if expression:\n",
    "        statement(s)\n",
    "        \n",
    "First, `expression` is evaluated. If it is true, the statement(s) are run, otherwise not."
   ]
  },
  {
   "cell_type": "code",
   "execution_count": null,
   "metadata": {},
   "outputs": [],
   "source": [
    "# Ask user for input\n",
    "a = input()\n",
    "\n",
    "# Convert the input to a float (otherwise it's always a string)\n",
    "a = float(a)\n",
    "\n",
    "# Print a message that depends on the number\n",
    "if a > 10:\n",
    "    print(\"BIG number!\")"
   ]
  },
  {
   "cell_type": "markdown",
   "metadata": {},
   "source": [
    "---"
   ]
  },
  {
   "cell_type": "markdown",
   "metadata": {},
   "source": [
    "Note that the if statement has no syntactic element to descibe the end of the block it should execute. \n",
    "\n",
    "Instead, it relies on *identation* to figure that out. Hence, it's necessary to ident the statement(s) you want inside it."
   ]
  },
  {
   "cell_type": "code",
   "execution_count": null,
   "metadata": {},
   "outputs": [],
   "source": [
    "a = 7"
   ]
  },
  {
   "cell_type": "code",
   "execution_count": null,
   "metadata": {},
   "outputs": [],
   "source": [
    "if a % 2 == 0:\n",
    "    print(\"this is inside the if block.\")\n",
    "    print(\"so is this.\")\n",
    "print(\"this is NOT\")"
   ]
  },
  {
   "cell_type": "markdown",
   "metadata": {},
   "source": [
    "---"
   ]
  },
  {
   "cell_type": "markdown",
   "metadata": {},
   "source": [
    "You can also add an `else` statement after an `if`, to be executed when the conditional expression is false.\n",
    "\n",
    "    if expression:\n",
    "        statement(s)\n",
    "    else:\n",
    "        statement(s)"
   ]
  },
  {
   "cell_type": "code",
   "execution_count": null,
   "metadata": {},
   "outputs": [],
   "source": [
    "# Ask user for input\n",
    "a = input()\n",
    "\n",
    "# Convert the input to a float\n",
    "a = float(a)\n",
    "\n",
    "# Print a message that depends on the number\n",
    "if a > 10:\n",
    "    print(\"BIG number!\")\n",
    "else:\n",
    "    print(\"small number..\")"
   ]
  },
  {
   "cell_type": "markdown",
   "metadata": {},
   "source": [
    "---"
   ]
  },
  {
   "cell_type": "markdown",
   "metadata": {},
   "source": [
    "Finally, it's also possible to check for additional expressions after an `if`, using `elif` (stands for \"else if\").\n",
    "\n",
    "    if expression:\n",
    "        statement(s)\n",
    "    elif expression:\n",
    "        statement(s)\n",
    "    elif expression:\n",
    "        statement(s)\n",
    "           .\n",
    "           .\n",
    "           .\n",
    "    else:\n",
    "        statement(s)\n",
    "    "
   ]
  },
  {
   "cell_type": "code",
   "execution_count": null,
   "metadata": {},
   "outputs": [],
   "source": [
    "# Ask user for input\n",
    "a = input()\n",
    "\n",
    "# Convert the input to a float\n",
    "a = float(a)\n",
    "\n",
    "# Print a message that depends on the number\n",
    "if a > 10:\n",
    "    print(\"BIG number!\")\n",
    "elif a > 5:\n",
    "    print(\"medium number\")\n",
    "elif a >= 0:\n",
    "    print(\"small number...\")\n",
    "else:\n",
    "    print(\"negative number!\")"
   ]
  },
  {
   "cell_type": "markdown",
   "metadata": {},
   "source": [
    "---\n",
    "### 5.2 Repetition structures"
   ]
  },
  {
   "cell_type": "markdown",
   "metadata": {},
   "source": [
    "The are two main types of repetition structures in Python: `while`-loops and `for`-loops."
   ]
  },
  {
   "cell_type": "markdown",
   "metadata": {},
   "source": [
    "A `while`-loop has the following syntax.\n",
    "\n",
    "    while expression:\n",
    "        statement(s)\n",
    "        \n",
    "The loop starts by evaluating `expression`. If it's false, the loop ends. If it's true, the statements are run and the loop starts again. Note that, just like with `if` statements, identation matters."
   ]
  },
  {
   "cell_type": "code",
   "execution_count": null,
   "metadata": {},
   "outputs": [],
   "source": [
    "x = 5\n",
    "\n",
    "while x < 10:\n",
    "    print(x)\n",
    "    x = x + 1\n",
    "print(\"Finished.\")"
   ]
  },
  {
   "cell_type": "markdown",
   "metadata": {},
   "source": [
    "---"
   ]
  },
  {
   "cell_type": "markdown",
   "metadata": {},
   "source": [
    "A `for`-loop has the following syntax\n",
    "\n",
    "    for target in iterable:\n",
    "        statement(s)\n",
    "\n",
    "`target` is the name of the variable you define to get each value obtained when iterating through the elements of the `iterable` object. For instance:"
   ]
  },
  {
   "cell_type": "code",
   "execution_count": null,
   "metadata": {},
   "outputs": [],
   "source": [
    "my_list = [0, 1, 2, 3, 4]"
   ]
  },
  {
   "cell_type": "code",
   "execution_count": null,
   "metadata": {},
   "outputs": [],
   "source": [
    "for item in my_list:\n",
    "    print(item)"
   ]
  },
  {
   "cell_type": "markdown",
   "metadata": {},
   "source": [
    "---"
   ]
  },
  {
   "cell_type": "markdown",
   "metadata": {},
   "source": [
    "Looping over a sequence of integers is a common task, so Python provides a built-in function that generates integer sequences for us, `range`. \n",
    "\n",
    "We can use it together with `for`-loops for specifying, for instance, how many times we want to run something."
   ]
  },
  {
   "cell_type": "code",
   "execution_count": null,
   "metadata": {},
   "outputs": [],
   "source": [
    "for i in range(5):\n",
    "    print(i)"
   ]
  },
  {
   "cell_type": "code",
   "execution_count": null,
   "metadata": {},
   "outputs": [],
   "source": [
    "a = 1.1\n",
    "b = 2"
   ]
  },
  {
   "cell_type": "code",
   "execution_count": null,
   "metadata": {},
   "outputs": [],
   "source": [
    "for i in range(6):\n",
    "    a = a**b\n",
    "    print(\"increasing a... (x {})\".format(i + 1))\n",
    "\n",
    "print(\"done.\\n\\na is now: {:.1f}\".format(a))"
   ]
  },
  {
   "cell_type": "markdown",
   "metadata": {},
   "source": [
    "---"
   ]
  },
  {
   "cell_type": "markdown",
   "metadata": {},
   "source": [
    "When inside a loop body, there are two useful statements one can use: `break` and `continue`. \n",
    "\n",
    "`break` ends the loop immediately, independent of wheter or not the loop condition is true. \n",
    "\n",
    "The other statement, `continue`, stops the execution of the loop statements immediately, and proceeds to the next iteration of the loop."
   ]
  },
  {
   "cell_type": "code",
   "execution_count": null,
   "metadata": {
    "scrolled": true
   },
   "outputs": [],
   "source": [
    "for i in range(7):\n",
    "    if i == 4:\n",
    "        break\n",
    "    print(i)"
   ]
  },
  {
   "cell_type": "code",
   "execution_count": null,
   "metadata": {},
   "outputs": [],
   "source": [
    "for i in range(7):\n",
    "    if i == 4:\n",
    "        continue\n",
    "    print(i)"
   ]
  },
  {
   "cell_type": "markdown",
   "metadata": {},
   "source": [
    "---\n",
    "### 5.3 List comprehensions"
   ]
  },
  {
   "cell_type": "markdown",
   "metadata": {},
   "source": [
    "A quick way to create lists is using what is called \"list comprehensions\". \n",
    "\n",
    "For this, the following syntax is used:\n",
    "\n",
    "    [expression for target in iterable]\n",
    "    \n",
    "This creates a list in which each element is the result of `expression`, when iterating through `iterable`."
   ]
  },
  {
   "cell_type": "code",
   "execution_count": null,
   "metadata": {},
   "outputs": [],
   "source": [
    "list1 = [x**2 for x in range(10)]\n",
    "list1"
   ]
  },
  {
   "cell_type": "code",
   "execution_count": null,
   "metadata": {},
   "outputs": [],
   "source": [
    "list2 = [k.upper() for k in \"python\"]\n",
    "list2"
   ]
  },
  {
   "cell_type": "markdown",
   "metadata": {},
   "source": [
    "---"
   ]
  }
 ],
 "metadata": {
  "kernelspec": {
   "display_name": "Python 3",
   "language": "python",
   "name": "python3"
  },
  "language_info": {
   "codemirror_mode": {
    "name": "ipython",
    "version": 3
   },
   "file_extension": ".py",
   "mimetype": "text/x-python",
   "name": "python",
   "nbconvert_exporter": "python",
   "pygments_lexer": "ipython3",
   "version": "3.6.6"
  }
 },
 "nbformat": 4,
 "nbformat_minor": 2
}
