{
 "cells": [
  {
   "cell_type": "markdown",
   "metadata": {},
   "source": [
    "### L4 - Exercises\n",
    "---"
   ]
  },
  {
   "cell_type": "markdown",
   "metadata": {},
   "source": [
    "1\\. Generate a 4x3x2 `ndarray` with random integer elements, between -10 and 10. Call it `a`."
   ]
  },
  {
   "cell_type": "code",
   "execution_count": null,
   "metadata": {},
   "outputs": [],
   "source": []
  },
  {
   "cell_type": "markdown",
   "metadata": {},
   "source": [
    "2\\. Choose 5 elements in `a` randomly and change them to 0.\n",
    "\n",
    "*Hint*: Take a look at [this](https://docs.scipy.org/doc/numpy/reference/generated/numpy.ndarray.flat.html#numpy.ndarray.flat)."
   ]
  },
  {
   "cell_type": "code",
   "execution_count": null,
   "metadata": {},
   "outputs": [],
   "source": []
  },
  {
   "cell_type": "markdown",
   "metadata": {},
   "source": [
    "3\\. Transform the operation described in step 2 into a function, that takes an `ndarray` as input and changes 5 random elements to zero."
   ]
  },
  {
   "cell_type": "code",
   "execution_count": null,
   "metadata": {},
   "outputs": [],
   "source": []
  },
  {
   "cell_type": "markdown",
   "metadata": {},
   "source": [
    "4\\. Starting from a fresh random array computed in problem 1 (i.e. re-run your solution to problem 1), apply the function you implemented repeatedly until all elements have been turned to zero. How many applications were necessary?\n",
    "\n",
    "*Hint*: [1](https://docs.scipy.org/doc/numpy/reference/generated/numpy.array_equal.html)."
   ]
  },
  {
   "cell_type": "code",
   "execution_count": null,
   "metadata": {},
   "outputs": [],
   "source": []
  },
  {
   "cell_type": "markdown",
   "metadata": {},
   "source": [
    "5\\. Approximate the expected number of times you would have to apply the function in step 3 to an array created in step 1 so as to end up with an array filled with zeros."
   ]
  },
  {
   "cell_type": "code",
   "execution_count": null,
   "metadata": {},
   "outputs": [],
   "source": []
  },
  {
   "cell_type": "markdown",
   "metadata": {},
   "source": [
    "6\\. Create a 2x3x2 `ndarray` with elements sampled from a multivariate normal distribution with parameters mean $=[1,2,3,4]$, and covariance $\\begin{bmatrix}\n",
    "1 & -1 & 1\\\\ \n",
    "-1 & 1 & -1\\\\ \n",
    "1 & -1 & 1\n",
    "\\end{bmatrix}$. Make sure that whenever this cell is re-run, you still get the same matrix."
   ]
  },
  {
   "cell_type": "code",
   "execution_count": null,
   "metadata": {},
   "outputs": [],
   "source": []
  }
 ],
 "metadata": {
  "kernelspec": {
   "display_name": "Python 3",
   "language": "python",
   "name": "python3"
  },
  "language_info": {
   "codemirror_mode": {
    "name": "ipython",
    "version": 3
   },
   "file_extension": ".py",
   "mimetype": "text/x-python",
   "name": "python",
   "nbconvert_exporter": "python",
   "pygments_lexer": "ipython3",
   "version": "3.6.6"
  }
 },
 "nbformat": 4,
 "nbformat_minor": 2
}
