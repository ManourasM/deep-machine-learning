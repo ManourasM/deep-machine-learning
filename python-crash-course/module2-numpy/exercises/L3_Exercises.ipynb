{
 "cells": [
  {
   "cell_type": "markdown",
   "metadata": {},
   "source": [
    "### L3 - Exercises\n",
    "---"
   ]
  },
  {
   "cell_type": "markdown",
   "metadata": {},
   "source": [
    "1\\. Create the following matrix as an `ndarray`:\n",
    "$\\begin{bmatrix}\n",
    "-2 & -1.5 & 1\\\\ \n",
    "-0.5 & 0 & 0.5\\\\ \n",
    "1 & 1.5 & 2\n",
    "\\end{bmatrix}$, call it `a`."
   ]
  },
  {
   "cell_type": "code",
   "execution_count": null,
   "metadata": {},
   "outputs": [],
   "source": []
  },
  {
   "cell_type": "markdown",
   "metadata": {},
   "source": [
    "2\\. Change all elements of `a` which are smaller than zero to three times their values."
   ]
  },
  {
   "cell_type": "code",
   "execution_count": null,
   "metadata": {},
   "outputs": [],
   "source": []
  },
  {
   "cell_type": "markdown",
   "metadata": {},
   "source": [
    "3\\. Create the following matrix as an `ndarray`:\n",
    "$\\begin{bmatrix}\n",
    "-4 & -3 & -2 & -1\\\\ \n",
    "0 & 1 & 2 & 3\\\\ \n",
    "4 & 5 & 6 & 7\n",
    "\\end{bmatrix}$, call it `b`."
   ]
  },
  {
   "cell_type": "code",
   "execution_count": null,
   "metadata": {},
   "outputs": [],
   "source": []
  },
  {
   "cell_type": "markdown",
   "metadata": {},
   "source": [
    "4\\. Change all elements of `b` that are also contained in `a` to their squares. \n",
    "\n",
    "*Hint*: take a look at [this method](https://numpy.org/doc/stable/reference/generated/numpy.isin.html)."
   ]
  },
  {
   "cell_type": "code",
   "execution_count": null,
   "metadata": {},
   "outputs": [],
   "source": []
  }
 ],
 "metadata": {
  "kernelspec": {
   "display_name": "Python 3",
   "language": "python",
   "name": "python3"
  },
  "language_info": {
   "codemirror_mode": {
    "name": "ipython",
    "version": 3
   },
   "file_extension": ".py",
   "mimetype": "text/x-python",
   "name": "python",
   "nbconvert_exporter": "python",
   "pygments_lexer": "ipython3",
   "version": "3.6.6"
  }
 },
 "nbformat": 4,
 "nbformat_minor": 2
}
